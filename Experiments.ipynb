{
  "nbformat": 4,
  "nbformat_minor": 0,
  "metadata": {
    "colab": {
      "provenance": []
    },
    "kernelspec": {
      "name": "python3",
      "display_name": "Python 3"
    },
    "language_info": {
      "name": "python"
    },
    "gpuClass": "standard"
  },
  "cells": [
    {
      "cell_type": "markdown",
      "source": [
        "## Git"
      ],
      "metadata": {
        "id": "dGaoU9BphjtN"
      }
    },
    {
      "cell_type": "code",
      "source": [
        "#clone git repo\n",
        "#!git clone https://github.com/WastingT-me/nla-2022-final-proj"
      ],
      "metadata": {
        "colab": {
          "base_uri": "https://localhost:8080/"
        },
        "id": "onx0bV4LhUd5",
        "outputId": "7399fdd1-2284-443a-8b12-0c429c02e1d3"
      },
      "execution_count": 1,
      "outputs": [
        {
          "output_type": "stream",
          "name": "stdout",
          "text": [
            "Cloning into 'nla-2022-final-proj'...\n",
            "remote: Enumerating objects: 10, done.\u001b[K\n",
            "remote: Counting objects: 100% (10/10), done.\u001b[K\n",
            "remote: Compressing objects: 100% (8/8), done.\u001b[K\n",
            "remote: Total 10 (delta 0), reused 0 (delta 0), pack-reused 0\u001b[K\n",
            "Unpacking objects: 100% (10/10), done.\n"
          ]
        }
      ]
    },
    {
      "cell_type": "code",
      "source": [
        "#cd /content/nla-2022-final-proj"
      ],
      "metadata": {
        "colab": {
          "base_uri": "https://localhost:8080/"
        },
        "id": "9oDFsGKQy4D9",
        "outputId": "1066572f-9db5-40a4-c7fc-a41ef5e2c27f"
      },
      "execution_count": 2,
      "outputs": [
        {
          "output_type": "stream",
          "name": "stdout",
          "text": [
            "/content/nla-2022-final-proj\n"
          ]
        }
      ]
    },
    {
      "cell_type": "markdown",
      "source": [
        "## Libs & additional functions"
      ],
      "metadata": {
        "id": "WjVSTg5OhmYH"
      }
    },
    {
      "cell_type": "code",
      "source": [
        "import numpy as np\n",
        "from sklearn import datasets\n",
        "from scipy.stats import ortho_group\n",
        "import datetime\n",
        "import os\n",
        "from sklearn import preprocessing\n",
        "import matplotlib.pyplot as plt"
      ],
      "metadata": {
        "id": "t5ClmABEzJc9"
      },
      "execution_count": 3,
      "outputs": []
    },
    {
      "cell_type": "code",
      "source": [
        "import numpy as np\n",
        "from sklearn import datasets\n",
        "from scipy.stats import ortho_group\n",
        "\n",
        "def generate_synthetic(spectrum='linear'):\n",
        "    v = ortho_group.rvs(dim=50)\n",
        "    if spectrum == 'linear':\n",
        "        d_elems = np.linspace(1000,1,50)\n",
        "    elif spectrum == 'log':\n",
        "        d_elems = np.logspace(3,0,50)\n",
        "    else:\n",
        "        raise Exception(spectrum)\n",
        "    Lambda = np.diag(d_elems)\n",
        "    M = v.dot(Lambda).dot(np.linalg.inv(v))\n",
        "    return M\n",
        "\n",
        "def load_iris_dataset():\n",
        "    iris = datasets.load_iris()\n",
        "    X = iris['data']\n",
        "    return X"
      ],
      "metadata": {
        "id": "H8jJ40N0ymzb"
      },
      "execution_count": 4,
      "outputs": []
    },
    {
      "cell_type": "code",
      "source": [
        "def create_plots(data1, data2, data3, title=None, xlabel=None, ylabel=None, yscale=None, filename=None): \n",
        "    plt.figure(figsize=(10, 7))\n",
        "    plt.plot(data1, label=\"mu-EigenGame\", color=\"red\")\n",
        "    plt.plot(data2, label=\"EigenGame\", color=\"orange\")\n",
        "    plt.plot(data3, label=\"Oja\\'s algorithm\", color=\"blue\")\n",
        "    plt.title(title)\n",
        "    plt.xlabel(xlabel)\n",
        "    plt.ylabel(ylabel)\n",
        "    plt.legend()\n",
        "    if yscale == 'log':\n",
        "        plt.yscale('log')\n",
        "    plt.grid()\n",
        "    if not os.path.exists('img'):\n",
        "        os.mkdir('img')\n",
        "    if not filename:\n",
        "        filename = datetime.datetime.today().strftime(\"%Y-%m-%d-%H-%M-%S\")\n",
        "    plt.savefig(f'img/{filename}.png')"
      ],
      "metadata": {
        "id": "c1DvEOcozGcB"
      },
      "execution_count": 5,
      "outputs": []
    },
    {
      "cell_type": "markdown",
      "source": [
        "## Experiments"
      ],
      "metadata": {
        "id": "BzgbtFPUy7_N"
      }
    },
    {
      "cell_type": "code",
      "source": [
        "from algorithm import EigenGameEstimator, OjaEstimator\n",
        "from sklearn.decomposition import PCA\n",
        "\n",
        "import matplotlib as mpl\n",
        "mpl.rcParams.update(mpl.rcParamsDefault)\n",
        "\n",
        "pca = PCA(svd_solver='auto', iterated_power=1)\n",
        "eigen_game = EigenGameEstimator(n_iter=1000)\n",
        "mu_eigen_game = EigenGameEstimator(n_iter=1000)\n",
        "oja = OjaEstimator(n_iter=1000)"
      ],
      "metadata": {
        "id": "Vv7F3qNQ2E7k"
      },
      "execution_count": 7,
      "outputs": []
    },
    {
      "cell_type": "markdown",
      "source": [
        "### Iris dataset"
      ],
      "metadata": {
        "id": "ZhWu16ebzrh8"
      }
    },
    {
      "cell_type": "code",
      "source": [
        "X = load_iris_dataset()\n",
        "X = preprocessing.scale(X)\n",
        "\n",
        "pca.fit(X)\n",
        "\n",
        "mu_eigen_game._estimate_mu_EigenGame(X, V_true=pca.components_.T)\n",
        "\n",
        "eigen_game.estimate(X, V_true=pca.components_.T)\n",
        "\n",
        "oja.estimate(X, V_true=pca.components_.T)\n",
        "\n",
        "create_plots(mu_eigen_game.longest_streak, eigen_game.longest_streak, oja.longest_streak, xlabel='Iterations, n', ylabel='Longest streak', \n",
        "                    title='Digits dataset', filename='all_iris_longest_streak')"
      ],
      "metadata": {
        "id": "CBSwzo2PzuIv"
      },
      "execution_count": null,
      "outputs": []
    },
    {
      "cell_type": "markdown",
      "source": [
        "### Synthetic data - linear"
      ],
      "metadata": {
        "id": "L_gNnV_az9oE"
      }
    },
    {
      "cell_type": "code",
      "source": [
        "X = generate_synthetic(spectrum='linear')\n",
        "X = preprocessing.scale(X)\n",
        "\n",
        "pca.fit(X)\n",
        "\n",
        "mu_eigen_game._estimate_mu_EigenGame(X, V_true=pca.components_.T)\n",
        "\n",
        "eigen_game._estimate(X, V_true=pca.components_.T)\n",
        "\n",
        "oja.estimate(X, V_true=pca.components_.T)\n",
        "\n",
        "create_plots(mu_eigen_game.longest_streak, eigen_game.longest_streak, oja.longest_streak, xlabel='Iterations, n', ylabel='Longest streak', \n",
        "                    title='Synthetic data with linear spectrum', filename='all_synth_linear_longest_streak')"
      ],
      "metadata": {
        "id": "SS_pHPgs0DfJ"
      },
      "execution_count": null,
      "outputs": []
    },
    {
      "cell_type": "markdown",
      "source": [
        "### Synthetic data - log"
      ],
      "metadata": {
        "id": "JiyApZIK0S6J"
      }
    },
    {
      "cell_type": "code",
      "source": [
        "X = data.generate_synthetic(spectrum='log')\n",
        "X = preprocessing.scale(X)\n",
        "\n",
        "pca.fit(X)\n",
        "\n",
        "mu_eigen_game._estimate_mu_EigenGame(X, V_true=pca.components_.T)\n",
        "\n",
        "eigen_game._estimate(X, V_true=pca.components_.T)\n",
        "\n",
        "oja.estimate(X, V_true=pca.components_.T)\n",
        "\n",
        "create_plots(mu_eigen_game.longest_streak, eigen_game.longest_streak, oja.longest_streak, xlabel='Iterations, n', ylabel='Longest streak', \n",
        "                    title='Synthetic data with log spectrum', filename='all_synth_log_longest_streak')"
      ],
      "metadata": {
        "id": "WGaqQOIh0Yfi"
      },
      "execution_count": null,
      "outputs": []
    }
  ]
}